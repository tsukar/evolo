{
 "cells": [
  {
   "cell_type": "code",
   "execution_count": 1,
   "metadata": {},
   "outputs": [],
   "source": [
    "from src.individual import Individual"
   ]
  },
  {
   "cell_type": "code",
   "execution_count": null,
   "metadata": {},
   "outputs": [],
   "source": [
    "Individual.load('cfg/seed.cfg', 0, 0).mutate().save()\n",
    "Individual.load('cfg/seed.cfg', 0, 1).mutate().save()\n",
    "Individual.load('cfg/seed.cfg', 0, 2).mutate().save()\n",
    "Individual.load('cfg/seed.cfg', 0, 3).mutate().save()"
   ]
  },
  {
   "cell_type": "code",
   "execution_count": 2,
   "metadata": {},
   "outputs": [],
   "source": [
    "ind0 = Individual.load('individuals/00-00.cfg', 0, 0).train()\n",
    "ind1 = Individual.load('individuals/00-01.cfg', 0, 1).train()\n",
    "ind2 = Individual.load('individuals/00-02.cfg', 0, 2).train()\n",
    "ind3 = Individual.load('individuals/00-03.cfg', 0, 3).train()"
   ]
  },
  {
   "cell_type": "code",
   "execution_count": 3,
   "metadata": {},
   "outputs": [
    {
     "data": {
      "text/plain": [
       "0.896215"
      ]
     },
     "execution_count": 3,
     "metadata": {},
     "output_type": "execute_result"
    }
   ],
   "source": [
    "ind0.evaluate()\n",
    "ind1.evaluate()\n",
    "ind2.evaluate()\n",
    "ind3.evaluate()"
   ]
  },
  {
   "cell_type": "code",
   "execution_count": 4,
   "metadata": {},
   "outputs": [],
   "source": [
    "pop = [ind0, ind1, ind2, ind3]\n",
    "best_ind = sorted(pop, key=lambda i: i.get_score())[-1]\n",
    "best_ind.populate()"
   ]
  },
  {
   "cell_type": "code",
   "execution_count": 5,
   "metadata": {},
   "outputs": [],
   "source": [
    "ind0 = Individual.load('individuals/01-00.cfg', 1, 0).train()\n",
    "ind1 = Individual.load('individuals/01-01.cfg', 1, 1).train()\n",
    "ind2 = Individual.load('individuals/01-02.cfg', 1, 2).train()\n",
    "ind3 = Individual.load('individuals/01-03.cfg', 1, 3).train()"
   ]
  },
  {
   "cell_type": "code",
   "execution_count": 6,
   "metadata": {},
   "outputs": [
    {
     "data": {
      "text/plain": [
       "0.894375"
      ]
     },
     "execution_count": 6,
     "metadata": {},
     "output_type": "execute_result"
    }
   ],
   "source": [
    "ind0.evaluate()\n",
    "ind1.evaluate()\n",
    "ind2.evaluate()\n",
    "ind3.evaluate()"
   ]
  },
  {
   "cell_type": "code",
   "execution_count": 7,
   "metadata": {},
   "outputs": [],
   "source": [
    "pop = [ind0, ind1, ind2, ind3]\n",
    "best_ind = sorted(pop, key=lambda i: i.get_score())[-1]\n",
    "best_ind.populate()"
   ]
  },
  {
   "cell_type": "code",
   "execution_count": 8,
   "metadata": {},
   "outputs": [],
   "source": [
    "ind0 = Individual.load('individuals/02-00.cfg', 2, 0).train()\n",
    "ind1 = Individual.load('individuals/02-01.cfg', 2, 1).train()\n",
    "ind2 = Individual.load('individuals/02-02.cfg', 2, 2).train()\n",
    "ind3 = Individual.load('individuals/02-03.cfg', 2, 3).train()"
   ]
  },
  {
   "cell_type": "code",
   "execution_count": 9,
   "metadata": {},
   "outputs": [
    {
     "data": {
      "text/plain": [
       "0.89948"
      ]
     },
     "execution_count": 9,
     "metadata": {},
     "output_type": "execute_result"
    }
   ],
   "source": [
    "ind0.evaluate()\n",
    "ind1.evaluate()\n",
    "ind2.evaluate()\n",
    "ind3.evaluate()"
   ]
  },
  {
   "cell_type": "code",
   "execution_count": 10,
   "metadata": {},
   "outputs": [],
   "source": [
    "pop = [ind0, ind1, ind2, ind3]\n",
    "best_ind = sorted(pop, key=lambda i: i.get_score())[-1]\n",
    "best_ind.populate()"
   ]
  },
  {
   "cell_type": "code",
   "execution_count": 11,
   "metadata": {},
   "outputs": [],
   "source": [
    "ind0 = Individual.load('individuals/03-00.cfg', 3, 0).train()\n",
    "ind1 = Individual.load('individuals/03-01.cfg', 3, 1).train()\n",
    "ind2 = Individual.load('individuals/03-02.cfg', 3, 2).train()\n",
    "ind3 = Individual.load('individuals/03-03.cfg', 3, 3).train()"
   ]
  }
 ],
 "metadata": {
  "kernelspec": {
   "display_name": "Python 3",
   "language": "python",
   "name": "python3"
  },
  "language_info": {
   "codemirror_mode": {
    "name": "ipython",
    "version": 3
   },
   "file_extension": ".py",
   "mimetype": "text/x-python",
   "name": "python",
   "nbconvert_exporter": "python",
   "pygments_lexer": "ipython3",
   "version": "3.6.7"
  }
 },
 "nbformat": 4,
 "nbformat_minor": 2
}
