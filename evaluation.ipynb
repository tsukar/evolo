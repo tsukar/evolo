{
 "cells": [
  {
   "cell_type": "code",
   "execution_count": 1,
   "metadata": {},
   "outputs": [],
   "source": [
    "from src.individual import Individual"
   ]
  },
  {
   "cell_type": "code",
   "execution_count": 2,
   "metadata": {},
   "outputs": [],
   "source": [
    "score0 = Individual.load('individuals/00-00.cfg', 0, 0).evaluate()\n",
    "score1 = Individual.load('individuals/00-01.cfg', 0, 1).evaluate()\n",
    "score2 = Individual.load('individuals/00-02.cfg', 0, 2).evaluate()\n",
    "score3 = Individual.load('individuals/00-03.cfg', 0, 3).evaluate()"
   ]
  },
  {
   "cell_type": "code",
   "execution_count": 3,
   "metadata": {},
   "outputs": [
    {
     "name": "stdout",
     "output_type": "stream",
     "text": [
      "0.898784\n",
      "0.898029\n",
      "0.896683\n",
      "0.896215\n"
     ]
    },
    {
     "data": {
      "text/plain": [
       "[None, None, None, None]"
      ]
     },
     "execution_count": 3,
     "metadata": {},
     "output_type": "execute_result"
    }
   ],
   "source": [
    "scores = [score0, score1, score2, score3]\n",
    "[print(score) for score in scores]"
   ]
  },
  {
   "cell_type": "code",
   "execution_count": 4,
   "metadata": {},
   "outputs": [],
   "source": [
    "score0 = Individual.load('individuals/01-00.cfg', 1, 0).evaluate()\n",
    "score1 = Individual.load('individuals/01-01.cfg', 1, 1).evaluate()\n",
    "score2 = Individual.load('individuals/01-02.cfg', 1, 2).evaluate()\n",
    "score3 = Individual.load('individuals/01-03.cfg', 1, 3).evaluate()"
   ]
  },
  {
   "cell_type": "code",
   "execution_count": 5,
   "metadata": {},
   "outputs": [
    {
     "name": "stdout",
     "output_type": "stream",
     "text": [
      "0.899662\n",
      "0.895526\n",
      "0.897498\n",
      "0.894375\n"
     ]
    },
    {
     "data": {
      "text/plain": [
       "[None, None, None, None]"
      ]
     },
     "execution_count": 5,
     "metadata": {},
     "output_type": "execute_result"
    }
   ],
   "source": [
    "scores = [score0, score1, score2, score3]\n",
    "[print(score) for score in scores]"
   ]
  },
  {
   "cell_type": "code",
   "execution_count": 6,
   "metadata": {},
   "outputs": [],
   "source": [
    "score0 = Individual.load('individuals/02-00.cfg', 2, 0).evaluate()\n",
    "score1 = Individual.load('individuals/02-01.cfg', 2, 1).evaluate()\n",
    "score2 = Individual.load('individuals/02-02.cfg', 2, 2).evaluate()\n",
    "score3 = Individual.load('individuals/02-03.cfg', 2, 3).evaluate()"
   ]
  },
  {
   "cell_type": "code",
   "execution_count": 7,
   "metadata": {},
   "outputs": [
    {
     "name": "stdout",
     "output_type": "stream",
     "text": [
      "0.896904\n",
      "0.900284\n",
      "0.899569\n",
      "0.89948\n"
     ]
    },
    {
     "data": {
      "text/plain": [
       "[None, None, None, None]"
      ]
     },
     "execution_count": 7,
     "metadata": {},
     "output_type": "execute_result"
    }
   ],
   "source": [
    "scores = [score0, score1, score2, score3]\n",
    "[print(score) for score in scores]"
   ]
  },
  {
   "cell_type": "code",
   "execution_count": 8,
   "metadata": {},
   "outputs": [],
   "source": [
    "score0 = Individual.load('individuals/03-00.cfg', 3, 0).evaluate()\n",
    "score1 = Individual.load('individuals/03-01.cfg', 3, 1).evaluate()\n",
    "score2 = Individual.load('individuals/03-02.cfg', 3, 2).evaluate()\n",
    "score3 = Individual.load('individuals/03-03.cfg', 3, 3).evaluate()"
   ]
  },
  {
   "cell_type": "code",
   "execution_count": 9,
   "metadata": {},
   "outputs": [
    {
     "name": "stdout",
     "output_type": "stream",
     "text": [
      "0.898647\n",
      "0.899941\n",
      "0.899793\n",
      "0.899154\n"
     ]
    },
    {
     "data": {
      "text/plain": [
       "[None, None, None, None]"
      ]
     },
     "execution_count": 9,
     "metadata": {},
     "output_type": "execute_result"
    }
   ],
   "source": [
    "scores = [score0, score1, score2, score3]\n",
    "[print(score) for score in scores]"
   ]
  }
 ],
 "metadata": {
  "kernelspec": {
   "display_name": "Python 3",
   "language": "python",
   "name": "python3"
  },
  "language_info": {
   "codemirror_mode": {
    "name": "ipython",
    "version": 3
   },
   "file_extension": ".py",
   "mimetype": "text/x-python",
   "name": "python",
   "nbconvert_exporter": "python",
   "pygments_lexer": "ipython3",
   "version": "3.6.7"
  }
 },
 "nbformat": 4,
 "nbformat_minor": 2
}
